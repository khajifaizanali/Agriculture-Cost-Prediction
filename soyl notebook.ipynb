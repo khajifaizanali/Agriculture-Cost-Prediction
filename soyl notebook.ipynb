{
 "cells": [
  {
   "cell_type": "code",
   "execution_count": 2,
   "metadata": {},
   "outputs": [],
   "source": [
    "from pandas import read_csv \n",
    "import numpy as np"
   ]
  },
  {
   "cell_type": "code",
   "execution_count": 35,
   "metadata": {},
   "outputs": [
    {
     "data": {
      "text/html": [
       "<div>\n",
       "<style scoped>\n",
       "    .dataframe tbody tr th:only-of-type {\n",
       "        vertical-align: middle;\n",
       "    }\n",
       "\n",
       "    .dataframe tbody tr th {\n",
       "        vertical-align: top;\n",
       "    }\n",
       "\n",
       "    .dataframe thead th {\n",
       "        text-align: right;\n",
       "    }\n",
       "</style>\n",
       "<table border=\"1\" class=\"dataframe\">\n",
       "  <thead>\n",
       "    <tr style=\"text-align: right;\">\n",
       "      <th></th>\n",
       "      <th>head</th>\n",
       "    </tr>\n",
       "  </thead>\n",
       "  <tbody>\n",
       "    <tr>\n",
       "      <td>0</td>\n",
       "      <td>550</td>\n",
       "    </tr>\n",
       "    <tr>\n",
       "      <td>1</td>\n",
       "      <td>450</td>\n",
       "    </tr>\n",
       "    <tr>\n",
       "      <td>2</td>\n",
       "      <td>550</td>\n",
       "    </tr>\n",
       "    <tr>\n",
       "      <td>3</td>\n",
       "      <td>550</td>\n",
       "    </tr>\n",
       "    <tr>\n",
       "      <td>4</td>\n",
       "      <td>450</td>\n",
       "    </tr>\n",
       "    <tr>\n",
       "      <td>...</td>\n",
       "      <td>...</td>\n",
       "    </tr>\n",
       "    <tr>\n",
       "      <td>314</td>\n",
       "      <td>1100</td>\n",
       "    </tr>\n",
       "    <tr>\n",
       "      <td>315</td>\n",
       "      <td>1100</td>\n",
       "    </tr>\n",
       "    <tr>\n",
       "      <td>316</td>\n",
       "      <td>1300</td>\n",
       "    </tr>\n",
       "    <tr>\n",
       "      <td>317</td>\n",
       "      <td>1300</td>\n",
       "    </tr>\n",
       "    <tr>\n",
       "      <td>318</td>\n",
       "      <td>1300</td>\n",
       "    </tr>\n",
       "  </tbody>\n",
       "</table>\n",
       "<p>319 rows × 1 columns</p>\n",
       "</div>"
      ],
      "text/plain": [
       "     head\n",
       "0     550\n",
       "1     450\n",
       "2     550\n",
       "3     550\n",
       "4     450\n",
       "..    ...\n",
       "314  1100\n",
       "315  1100\n",
       "316  1300\n",
       "317  1300\n",
       "318  1300\n",
       "\n",
       "[319 rows x 1 columns]"
      ]
     },
     "execution_count": 35,
     "metadata": {},
     "output_type": "execute_result"
    }
   ],
   "source": [
    "df = read_csv('hello.csv')\n",
    "df"
   ]
  },
  {
   "cell_type": "code",
   "execution_count": 36,
   "metadata": {},
   "outputs": [
    {
     "data": {
      "text/plain": [
       "(319, 1)"
      ]
     },
     "execution_count": 36,
     "metadata": {},
     "output_type": "execute_result"
    }
   ],
   "source": [
    "values = df.values.astype('float32')\n",
    "values.shape"
   ]
  },
  {
   "cell_type": "code",
   "execution_count": 37,
   "metadata": {},
   "outputs": [],
   "source": [
    "train_size = int((values.shape[0] * 0.67))\n",
    "test_size = values.shape[0]  - train_size\n",
    "train = values[0:train_size]\n",
    "test = values[train_size:]"
   ]
  },
  {
   "cell_type": "code",
   "execution_count": 39,
   "metadata": {},
   "outputs": [],
   "source": [
    "from sklearn.preprocessing import MinMaxScaler\n",
    "scaler = MinMaxScaler(feature_range =(0,1))\n",
    "train = scaler.fit_transform(train)\n",
    "test = scaler.transform(test)"
   ]
  },
  {
   "cell_type": "code",
   "execution_count": 42,
   "metadata": {},
   "outputs": [
    {
     "data": {
      "text/plain": [
       "array([0.75      , 0.75      , 0.75      , 0.75      , 0.75      ,\n",
       "       0.75      , 0.75      , 0.75      , 1.25      , 0.75      ,\n",
       "       1.        , 1.375     , 0.75      , 1.25      , 0.75      ,\n",
       "       1.25      , 1.        , 1.25      , 1.25      , 1.375     ,\n",
       "       1.375     , 1.375     , 1.375     , 1.375     , 1.375     ,\n",
       "       1.375     , 1.375     , 1.375     , 1.25      , 1.        ,\n",
       "       1.375     , 0.5625    , 0.75      , 0.75      , 0.5       ,\n",
       "       3.875     , 1.        , 0.5       , 0.5       , 0.125     ,\n",
       "       0.875     , 3.5       , 3.25      , 3.25      , 3.25      ,\n",
       "       3.25      , 3.25      , 3.25      , 3.875     , 1.5       ,\n",
       "       1.        , 0.6875    , 0.67499995, 0.67499995, 0.67499995,\n",
       "       0.6625    , 0.6625    , 0.5625    , 0.5       , 0.5       ,\n",
       "       0.5       , 0.5       , 0.5       , 0.5       , 0.5       ,\n",
       "       0.5       , 0.5       , 0.5       , 0.5       , 0.5       ,\n",
       "       0.5       , 0.25      , 0.25      , 0.25      , 0.125     ,\n",
       "       0.375     , 0.375     , 0.375     , 0.375     , 0.375     ,\n",
       "       0.375     , 0.5       , 0.625     , 0.625     , 0.775     ,\n",
       "       0.775     , 0.775     , 0.775     , 0.7875    , 0.7875    ,\n",
       "       0.7875    , 0.7875    , 0.7875    , 0.7875    , 1.0625    ,\n",
       "       0.6875    , 0.875     , 0.8125    , 0.8125    , 0.8249999 ,\n",
       "       0.8249999 , 0.875     , 0.875     , 1.125     , 1.125     ,\n",
       "       1.125     ], dtype=float32)"
      ]
     },
     "execution_count": 42,
     "metadata": {},
     "output_type": "execute_result"
    }
   ],
   "source": [
    "scaler.inverse_transform(test).ravel()"
   ]
  },
  {
   "cell_type": "code",
   "execution_count": 21,
   "metadata": {},
   "outputs": [],
   "source": [
    "def create_dataset(data, k):\n",
    "    dataX, dataY = [],[]\n",
    "    for i in range(data.shape[0] - k):\n",
    "        x = data[i:i + k, 0]\n",
    "        y = data[i + k, 0]\n",
    "        dataX.append(x)\n",
    "        dataY.append(y)\n",
    "    return np.array(dataX), np.array(dataY)"
   ]
  },
  {
   "cell_type": "code",
   "execution_count": 22,
   "metadata": {},
   "outputs": [],
   "source": [
    "look_back = 30\n",
    "trainX, trainY = create_dataset(train, look_back)\n",
    "testX, testY = create_dataset(test, look_back)"
   ]
  },
  {
   "cell_type": "code",
   "execution_count": 23,
   "metadata": {},
   "outputs": [
    {
     "data": {
      "text/plain": [
       "(183, 30, 1)"
      ]
     },
     "execution_count": 23,
     "metadata": {},
     "output_type": "execute_result"
    }
   ],
   "source": [
    "trainX = np.reshape(trainX, (trainX.shape[0], trainX.shape[1], 1))\n",
    "testX = np.reshape(testX, (testX.shape[0], testX.shape[1], 1))\n",
    "trainX.shape"
   ]
  },
  {
   "cell_type": "code",
   "execution_count": 24,
   "metadata": {},
   "outputs": [],
   "source": [
    "from keras.models import Sequential\n",
    "from keras.layers import LSTM, Dense"
   ]
  },
  {
   "cell_type": "code",
   "execution_count": 25,
   "metadata": {},
   "outputs": [
    {
     "name": "stdout",
     "output_type": "stream",
     "text": [
      "Epoch 1/200\n",
      " - 4s - loss: 0.0167\n",
      "Epoch 2/200\n",
      " - 3s - loss: 0.0109\n",
      "Epoch 3/200\n",
      " - 3s - loss: 0.0091\n",
      "Epoch 4/200\n",
      " - 3s - loss: 0.0090\n",
      "Epoch 5/200\n",
      " - 3s - loss: 0.0089\n",
      "Epoch 6/200\n",
      " - 3s - loss: 0.0079\n",
      "Epoch 7/200\n",
      " - 3s - loss: 0.0088\n",
      "Epoch 8/200\n",
      " - 3s - loss: 0.0083\n",
      "Epoch 9/200\n",
      " - 3s - loss: 0.0077\n",
      "Epoch 10/200\n",
      " - 3s - loss: 0.0070\n",
      "Epoch 11/200\n",
      " - 3s - loss: 0.0069\n",
      "Epoch 12/200\n",
      " - 3s - loss: 0.0073\n",
      "Epoch 13/200\n",
      " - 3s - loss: 0.0067\n",
      "Epoch 14/200\n",
      " - 3s - loss: 0.0071\n",
      "Epoch 15/200\n",
      " - 3s - loss: 0.0073\n",
      "Epoch 16/200\n",
      " - 3s - loss: 0.0071\n",
      "Epoch 17/200\n",
      " - 4s - loss: 0.0070\n",
      "Epoch 18/200\n",
      " - 4s - loss: 0.0071\n",
      "Epoch 19/200\n",
      " - 3s - loss: 0.0066\n",
      "Epoch 20/200\n",
      " - 3s - loss: 0.0066\n",
      "Epoch 21/200\n",
      " - 3s - loss: 0.0059\n",
      "Epoch 22/200\n",
      " - 3s - loss: 0.0066\n",
      "Epoch 23/200\n",
      " - 3s - loss: 0.0060\n",
      "Epoch 24/200\n",
      " - 3s - loss: 0.0061\n",
      "Epoch 25/200\n",
      " - 3s - loss: 0.0058\n",
      "Epoch 26/200\n",
      " - 3s - loss: 0.0057\n",
      "Epoch 27/200\n",
      " - 3s - loss: 0.0057\n",
      "Epoch 28/200\n",
      " - 4s - loss: 0.0060\n",
      "Epoch 29/200\n",
      " - 4s - loss: 0.0061\n",
      "Epoch 30/200\n",
      " - 3s - loss: 0.0056\n",
      "Epoch 31/200\n",
      " - 4s - loss: 0.0058\n",
      "Epoch 32/200\n",
      " - 4s - loss: 0.0064\n",
      "Epoch 33/200\n",
      " - 4s - loss: 0.0058\n",
      "Epoch 34/200\n",
      " - 4s - loss: 0.0060\n",
      "Epoch 35/200\n",
      " - 4s - loss: 0.0055\n",
      "Epoch 36/200\n",
      " - 3s - loss: 0.0056\n",
      "Epoch 37/200\n",
      " - 3s - loss: 0.0057\n",
      "Epoch 38/200\n",
      " - 3s - loss: 0.0057\n",
      "Epoch 39/200\n",
      " - 3s - loss: 0.0059\n",
      "Epoch 40/200\n",
      " - 4s - loss: 0.0055\n",
      "Epoch 41/200\n",
      " - 3s - loss: 0.0052\n",
      "Epoch 42/200\n",
      " - 4s - loss: 0.0055\n",
      "Epoch 43/200\n",
      " - 4s - loss: 0.0053\n",
      "Epoch 44/200\n",
      " - 3s - loss: 0.0054\n",
      "Epoch 45/200\n",
      " - 3s - loss: 0.0050\n",
      "Epoch 46/200\n",
      " - 3s - loss: 0.0055\n",
      "Epoch 47/200\n",
      " - 3s - loss: 0.0051\n",
      "Epoch 48/200\n",
      " - 3s - loss: 0.0051\n",
      "Epoch 49/200\n",
      " - 4s - loss: 0.0055\n",
      "Epoch 50/200\n",
      " - 5s - loss: 0.0056\n",
      "Epoch 51/200\n",
      " - 5s - loss: 0.0051\n",
      "Epoch 52/200\n",
      " - 4s - loss: 0.0047\n",
      "Epoch 53/200\n",
      " - 3s - loss: 0.0053\n",
      "Epoch 54/200\n",
      " - 3s - loss: 0.0051\n",
      "Epoch 55/200\n",
      " - 3s - loss: 0.0048\n",
      "Epoch 56/200\n",
      " - 4s - loss: 0.0045\n",
      "Epoch 57/200\n",
      " - 3s - loss: 0.0047\n",
      "Epoch 58/200\n",
      " - 4s - loss: 0.0050\n",
      "Epoch 59/200\n",
      " - 4s - loss: 0.0046\n",
      "Epoch 60/200\n",
      " - 5s - loss: 0.0044\n",
      "Epoch 61/200\n",
      " - 4s - loss: 0.0047\n",
      "Epoch 62/200\n",
      " - 3s - loss: 0.0050\n",
      "Epoch 63/200\n",
      " - 3s - loss: 0.0043\n",
      "Epoch 64/200\n",
      " - 3s - loss: 0.0041\n",
      "Epoch 65/200\n",
      " - 3s - loss: 0.0044\n",
      "Epoch 66/200\n",
      " - 3s - loss: 0.0039\n",
      "Epoch 67/200\n",
      " - 3s - loss: 0.0040\n",
      "Epoch 68/200\n",
      " - 3s - loss: 0.0040\n",
      "Epoch 69/200\n",
      " - 4s - loss: 0.0041\n",
      "Epoch 70/200\n",
      " - 3s - loss: 0.0044\n",
      "Epoch 71/200\n",
      " - 3s - loss: 0.0042\n",
      "Epoch 72/200\n",
      " - 3s - loss: 0.0039\n",
      "Epoch 73/200\n",
      " - 3s - loss: 0.0036\n",
      "Epoch 74/200\n",
      " - 3s - loss: 0.0039\n",
      "Epoch 75/200\n",
      " - 3s - loss: 0.0039\n",
      "Epoch 76/200\n",
      " - 4s - loss: 0.0038\n",
      "Epoch 77/200\n",
      " - 3s - loss: 0.0038\n",
      "Epoch 78/200\n",
      " - 3s - loss: 0.0037\n",
      "Epoch 79/200\n",
      " - 3s - loss: 0.0037\n",
      "Epoch 80/200\n",
      " - 3s - loss: 0.0035\n",
      "Epoch 81/200\n",
      " - 3s - loss: 0.0034\n",
      "Epoch 82/200\n",
      " - 3s - loss: 0.0034\n",
      "Epoch 83/200\n",
      " - 3s - loss: 0.0034\n",
      "Epoch 84/200\n",
      " - 3s - loss: 0.0033\n",
      "Epoch 85/200\n",
      " - 3s - loss: 0.0035\n",
      "Epoch 86/200\n",
      " - 3s - loss: 0.0036\n",
      "Epoch 87/200\n",
      " - 3s - loss: 0.0032\n",
      "Epoch 88/200\n",
      " - 3s - loss: 0.0036\n",
      "Epoch 89/200\n",
      " - 4s - loss: 0.0039\n",
      "Epoch 90/200\n",
      " - 4s - loss: 0.0033\n",
      "Epoch 91/200\n",
      " - 4s - loss: 0.0033\n",
      "Epoch 92/200\n",
      " - 4s - loss: 0.0036\n",
      "Epoch 93/200\n",
      " - 4s - loss: 0.0036\n",
      "Epoch 94/200\n",
      " - 4s - loss: 0.0034\n",
      "Epoch 95/200\n",
      " - 3s - loss: 0.0034\n",
      "Epoch 96/200\n",
      " - 3s - loss: 0.0032\n",
      "Epoch 97/200\n",
      " - 4s - loss: 0.0031\n",
      "Epoch 98/200\n",
      " - 3s - loss: 0.0032\n",
      "Epoch 99/200\n",
      " - 3s - loss: 0.0032\n",
      "Epoch 100/200\n",
      " - 3s - loss: 0.0032\n",
      "Epoch 101/200\n",
      " - 3s - loss: 0.0031\n",
      "Epoch 102/200\n",
      " - 3s - loss: 0.0033\n",
      "Epoch 103/200\n",
      " - 3s - loss: 0.0030\n",
      "Epoch 104/200\n",
      " - 3s - loss: 0.0032\n",
      "Epoch 105/200\n",
      " - 3s - loss: 0.0034\n",
      "Epoch 106/200\n",
      " - 3s - loss: 0.0035\n",
      "Epoch 107/200\n",
      " - 3s - loss: 0.0033\n",
      "Epoch 108/200\n",
      " - 3s - loss: 0.0029\n",
      "Epoch 109/200\n",
      " - 3s - loss: 0.0031\n",
      "Epoch 110/200\n",
      " - 3s - loss: 0.0034\n",
      "Epoch 111/200\n",
      " - 3s - loss: 0.0035\n",
      "Epoch 112/200\n",
      " - 3s - loss: 0.0030\n",
      "Epoch 113/200\n",
      " - 4s - loss: 0.0029\n",
      "Epoch 114/200\n",
      " - 4s - loss: 0.0031\n",
      "Epoch 115/200\n",
      " - 3s - loss: 0.0032\n",
      "Epoch 116/200\n",
      " - 3s - loss: 0.0030\n",
      "Epoch 117/200\n",
      " - 4s - loss: 0.0029\n",
      "Epoch 118/200\n",
      " - 4s - loss: 0.0027\n",
      "Epoch 119/200\n",
      " - 3s - loss: 0.0032\n",
      "Epoch 120/200\n",
      " - 3s - loss: 0.0028\n",
      "Epoch 121/200\n",
      " - 3s - loss: 0.0031\n",
      "Epoch 122/200\n",
      " - 3s - loss: 0.0026\n",
      "Epoch 123/200\n",
      " - 3s - loss: 0.0031\n",
      "Epoch 124/200\n",
      " - 3s - loss: 0.0031\n",
      "Epoch 125/200\n",
      " - 3s - loss: 0.0026\n",
      "Epoch 126/200\n",
      " - 3s - loss: 0.0028\n",
      "Epoch 127/200\n",
      " - 3s - loss: 0.0026\n",
      "Epoch 128/200\n",
      " - 3s - loss: 0.0028\n",
      "Epoch 129/200\n",
      " - 3s - loss: 0.0028\n",
      "Epoch 130/200\n",
      " - 3s - loss: 0.0033\n",
      "Epoch 131/200\n",
      " - 3s - loss: 0.0026\n",
      "Epoch 132/200\n",
      " - 3s - loss: 0.0038\n",
      "Epoch 133/200\n",
      " - 3s - loss: 0.0028\n",
      "Epoch 134/200\n",
      " - 3s - loss: 0.0025\n",
      "Epoch 135/200\n",
      " - 3s - loss: 0.0024\n",
      "Epoch 136/200\n",
      " - 3s - loss: 0.0027\n",
      "Epoch 137/200\n",
      " - 3s - loss: 0.0025\n",
      "Epoch 138/200\n",
      " - 3s - loss: 0.0025\n",
      "Epoch 139/200\n",
      " - 3s - loss: 0.0023\n",
      "Epoch 140/200\n",
      " - 3s - loss: 0.0031\n",
      "Epoch 141/200\n",
      " - 3s - loss: 0.0025\n",
      "Epoch 142/200\n",
      " - 3s - loss: 0.0024\n",
      "Epoch 143/200\n",
      " - 3s - loss: 0.0023\n",
      "Epoch 144/200\n",
      " - 4s - loss: 0.0024\n",
      "Epoch 145/200\n",
      " - 3s - loss: 0.0026\n",
      "Epoch 146/200\n",
      " - 3s - loss: 0.0025\n",
      "Epoch 147/200\n",
      " - 3s - loss: 0.0021\n",
      "Epoch 148/200\n",
      " - 3s - loss: 0.0023\n",
      "Epoch 149/200\n",
      " - 3s - loss: 0.0019\n",
      "Epoch 150/200\n",
      " - 3s - loss: 0.0023\n",
      "Epoch 151/200\n",
      " - 3s - loss: 0.0025\n",
      "Epoch 152/200\n",
      " - 3s - loss: 0.0020\n",
      "Epoch 153/200\n",
      " - 3s - loss: 0.0022\n",
      "Epoch 154/200\n",
      " - 3s - loss: 0.0024\n",
      "Epoch 155/200\n",
      " - 4s - loss: 0.0020\n",
      "Epoch 156/200\n",
      " - 4s - loss: 0.0021\n",
      "Epoch 157/200\n",
      " - 4s - loss: 0.0018\n",
      "Epoch 158/200\n",
      " - 4s - loss: 0.0023\n",
      "Epoch 159/200\n",
      " - 4s - loss: 0.0018\n",
      "Epoch 160/200\n",
      " - 4s - loss: 0.0026\n",
      "Epoch 161/200\n",
      " - 3s - loss: 0.0023\n",
      "Epoch 162/200\n",
      " - 3s - loss: 0.0022\n",
      "Epoch 163/200\n",
      " - 4s - loss: 0.0021\n",
      "Epoch 164/200\n",
      " - 4s - loss: 0.0017\n",
      "Epoch 165/200\n",
      " - 3s - loss: 0.0022\n",
      "Epoch 166/200\n",
      " - 4s - loss: 0.0019\n",
      "Epoch 167/200\n",
      " - 4s - loss: 0.0019\n",
      "Epoch 168/200\n",
      " - 4s - loss: 0.0018\n",
      "Epoch 169/200\n",
      " - 4s - loss: 0.0017\n",
      "Epoch 170/200\n",
      " - 4s - loss: 0.0018\n",
      "Epoch 171/200\n",
      " - 4s - loss: 0.0019\n",
      "Epoch 172/200\n",
      " - 4s - loss: 0.0019\n",
      "Epoch 173/200\n",
      " - 4s - loss: 0.0021\n",
      "Epoch 174/200\n",
      " - 4s - loss: 0.0019\n",
      "Epoch 175/200\n",
      " - 4s - loss: 0.0016\n",
      "Epoch 176/200\n",
      " - 4s - loss: 0.0019\n",
      "Epoch 177/200\n",
      " - 3s - loss: 0.0018\n",
      "Epoch 178/200\n",
      " - 3s - loss: 0.0016\n",
      "Epoch 179/200\n",
      " - 3s - loss: 0.0018\n",
      "Epoch 180/200\n",
      " - 4s - loss: 0.0014\n",
      "Epoch 181/200\n",
      " - 4s - loss: 0.0015\n",
      "Epoch 182/200\n",
      " - 4s - loss: 0.0013\n",
      "Epoch 183/200\n",
      " - 3s - loss: 0.0016\n",
      "Epoch 184/200\n",
      " - 3s - loss: 0.0015\n",
      "Epoch 185/200\n",
      " - 3s - loss: 0.0015\n",
      "Epoch 186/200\n",
      " - 4s - loss: 0.0018\n",
      "Epoch 187/200\n",
      " - 4s - loss: 0.0016\n",
      "Epoch 188/200\n",
      " - 4s - loss: 0.0017\n",
      "Epoch 189/200\n",
      " - 3s - loss: 0.0014\n",
      "Epoch 190/200\n",
      " - 3s - loss: 0.0013\n",
      "Epoch 191/200\n",
      " - 3s - loss: 0.0015\n",
      "Epoch 192/200\n",
      " - 4s - loss: 0.0012\n",
      "Epoch 193/200\n",
      " - 3s - loss: 0.0014\n",
      "Epoch 194/200\n",
      " - 3s - loss: 0.0012\n",
      "Epoch 195/200\n",
      " - 3s - loss: 0.0010\n",
      "Epoch 196/200\n",
      " - 3s - loss: 0.0011\n",
      "Epoch 197/200\n",
      " - 3s - loss: 0.0012\n",
      "Epoch 198/200\n",
      " - 3s - loss: 0.0017\n",
      "Epoch 199/200\n",
      " - 3s - loss: 0.0010\n",
      "Epoch 200/200\n",
      " - 4s - loss: 0.0012\n"
     ]
    }
   ],
   "source": [
    "NUM_NEURONS_FirstLayer = 100\n",
    "NUM_NEURONS_SecondLayer = 50\n",
    "EPOCHS = 200\n",
    "model = Sequential()\n",
    "model.add(LSTM(NUM_NEURONS_FirstLayer,input_shape=(look_back,1), return_sequences=True))\n",
    "model.add(LSTM(NUM_NEURONS_SecondLayer,input_shape=(NUM_NEURONS_FirstLayer,1)))\n",
    "model.add(Dense(1))\n",
    "model.compile(loss='mean_squared_error', optimizer='adam')\n",
    "history = model.fit(trainX,trainY,epochs=EPOCHS,shuffle=True,batch_size=1, verbose=2)\n",
    " \n"
   ]
  },
  {
   "cell_type": "code",
   "execution_count": 26,
   "metadata": {},
   "outputs": [
    {
     "data": {
      "text/plain": [
       "['filename.pkl']"
      ]
     },
     "execution_count": 26,
     "metadata": {},
     "output_type": "execute_result"
    }
   ],
   "source": [
    "from sklearn.externals import joblib \n",
    "\n",
    "# Save the model as a pickle in a file \n",
    "joblib.dump(model, 'filename.pkl')"
   ]
  },
  {
   "cell_type": "code",
   "execution_count": 29,
   "metadata": {},
   "outputs": [
    {
     "data": {
      "text/plain": [
       "((76, 1), (76,))"
      ]
     },
     "execution_count": 29,
     "metadata": {},
     "output_type": "execute_result"
    }
   ],
   "source": [
    "testPredict = model.predict(testX)\n",
    "\n",
    "trainPredict = model.predict(trainX)\n",
    "trainPredict = scaler.inverse_transform(trainPredict).ravel()\n",
    "\n",
    "testTrue = scaler.inverse_transform([testY]).ravel()\n",
    "trainTrue = scaler.inverse_transform([trainY]).ravel()\n",
    "\n",
    "testPredict.shape, testTrue.shape"
   ]
  },
  {
   "cell_type": "code",
   "execution_count": 34,
   "metadata": {},
   "outputs": [
    {
     "data": {
      "text/plain": [
       "array([ 1.4120585 ,  0.63646084,  0.46240765,  1.0430791 ,  0.55802727,\n",
       "        0.8680707 ,  1.9337903 ,  0.29051548,  1.4834906 ,  0.01666085,\n",
       "        0.946293  ,  0.523007  ,  1.6513759 , -0.07793461,  2.3743033 ,\n",
       "        1.1196071 ,  0.06824547,  2.6748254 , -0.15262227,  1.8440837 ,\n",
       "        1.0185161 ,  1.3548708 ,  0.655749  ,  0.57159454,  0.8843374 ,\n",
       "        0.8556978 ,  1.0008157 ,  0.89508474,  0.8577451 ,  0.8174663 ,\n",
       "        0.748533  ,  0.6799662 ,  0.56307906,  0.48803103,  0.42388034,\n",
       "        0.48651385,  0.5793973 ,  0.8447561 ,  0.62054515,  0.4742965 ,\n",
       "        0.6593339 ,  0.5060711 ,  0.42352554,  0.36417824,  0.61335874,\n",
       "        0.27507994,  0.3198377 ,  0.27167556,  0.29904762,  0.3860441 ,\n",
       "        0.4110391 ,  0.5923329 ,  0.39667666,  0.50431347,  0.5498096 ,\n",
       "        0.8228385 ,  0.6240379 ,  0.73841363,  0.7158811 ,  0.7996583 ,\n",
       "        0.75597906,  0.7910173 ,  0.81963426,  0.8007155 ,  0.79666966,\n",
       "        0.983028  ,  0.57084805,  0.9110562 ,  0.90784085,  0.76617473,\n",
       "        0.8898259 ,  0.79074126,  0.8038295 ,  0.86117107,  1.0795505 ,\n",
       "        0.3976283 ], dtype=float32)"
      ]
     },
     "execution_count": 34,
     "metadata": {},
     "output_type": "execute_result"
    }
   ],
   "source": [
    "scaler.inverse_transform(testPredict).ravel()"
   ]
  },
  {
   "cell_type": "code",
   "execution_count": 32,
   "metadata": {},
   "outputs": [],
   "source": [
    "from matplotlib import pyplot as plt"
   ]
  },
  {
   "cell_type": "code",
   "execution_count": 22,
   "metadata": {},
   "outputs": [
    {
     "data": {
      "image/png": "[encoded data removed]",
      "text/plain": [
       "<Figure size 432x288 with 1 Axes>"
      ]
     },
     "metadata": {
      "needs_background": "light"
     },
     "output_type": "display_data"
    }
   ],
   "source": [
    "plt.plot(trainTrue, c = 'g')\n",
    "plt.plot(trainPredict, c = 'b')\n",
    "plt.show()"
   ]
  },
  {
   "cell_type": "code",
   "execution_count": 23,
   "metadata": {},
   "outputs": [
    {
     "data": {
      "image/png": "[encoded data removed]",
      "text/plain": [
       "<Figure size 432x288 with 1 Axes>"
      ]
     },
     "metadata": {
      "needs_background": "light"
     },
     "output_type": "display_data"
    }
   ],
   "source": [
    "combinedPredicted = np.concatenate((trainPredict, testPredict))\n",
    "combinedTrue = np.concatenate((trainTrue, testTrue))\n",
    "plt.plot(combinedTrue, c = 'g')\n",
    "plt.plot(combinedPredicted, c = 'b')\n",
    "plt.show()"
   ]
  },
  {
   "cell_type": "code",
   "execution_count": 166,
   "metadata": {},
   "outputs": [
    {
     "data": {
      "text/plain": [
       "(76, 30, 1)"
      ]
     },
     "execution_count": 166,
     "metadata": {},
     "output_type": "execute_result"
    }
   ],
   "source": [
    "testX.shape"
   ]
  },
  {
   "cell_type": "code",
   "execution_count": 28,
   "metadata": {},
   "outputs": [
    {
     "data": {
      "text/plain": [
       "0.75"
      ]
     },
     "execution_count": 28,
     "metadata": {},
     "output_type": "execute_result"
    }
   ],
   "source": [
    "testY[0]"
   ]
  },
  {
   "cell_type": "code",
   "execution_count": 33,
   "metadata": {},
   "outputs": [],
   "source": [
    "testPredict = model.predict([[testX[0]]])"
   ]
  },
  {
   "cell_type": "code",
   "execution_count": 34,
   "metadata": {},
   "outputs": [
    {
     "data": {
      "text/plain": [
       "array([[1.211219]], dtype=float32)"
      ]
     },
     "execution_count": 34,
     "metadata": {},
     "output_type": "execute_result"
    }
   ],
   "source": [
    "testPredict"
   ]
  },
  {
   "cell_type": "code",
   "execution_count": 75,
   "metadata": {},
   "outputs": [
    {
     "data": {
      "text/plain": [
       "(12, 1)"
      ]
     },
     "execution_count": 75,
     "metadata": {},
     "output_type": "execute_result"
    }
   ],
   "source": [
    "testX[93].shape"
   ]
  },
  {
   "cell_type": "code",
   "execution_count": 102,
   "metadata": {},
   "outputs": [
    {
     "data": {
      "text/plain": [
       "array([[1.0625    ],\n",
       "       [0.6875    ],\n",
       "       [0.875     ],\n",
       "       [0.8125    ],\n",
       "       [0.8125    ],\n",
       "       [0.82499993],\n",
       "       [0.82499993],\n",
       "       [0.875     ],\n",
       "       [0.875     ],\n",
       "       [1.125     ],\n",
       "       [1.125     ],\n",
       "       [0.75      ]])"
      ]
     },
     "execution_count": 102,
     "metadata": {},
     "output_type": "execute_result"
    }
   ],
   "source": [
    "import numpy as np\n",
    "testx=np.append(testX[93][1:], [[0.75]],axis = 0) \n",
    "testx"
   ]
  },
  {
   "cell_type": "code",
   "execution_count": 16,
   "metadata": {},
   "outputs": [
    {
     "ename": "NameError",
     "evalue": "name 'testx' is not defined",
     "output_type": "error",
     "traceback": [
      "\u001b[1;31m---------------------------------------------------------------------------\u001b[0m",
      "\u001b[1;31mNameError\u001b[0m                                 Traceback (most recent call last)",
      "\u001b[1;32m<ipython-input-16-7a56cd17d494>\u001b[0m in \u001b[0;36m<module>\u001b[1;34m\u001b[0m\n\u001b[1;32m----> 1\u001b[1;33m \u001b[0mprint\u001b[0m\u001b[1;33m(\u001b[0m\u001b[0mtestx\u001b[0m\u001b[1;33m)\u001b[0m\u001b[1;33m\u001b[0m\u001b[1;33m\u001b[0m\u001b[0m\n\u001b[0m",
      "\u001b[1;31mNameError\u001b[0m: name 'testx' is not defined"
     ]
    }
   ],
   "source": [
    "print(testx)"
   ]
  },
  {
   "cell_type": "code",
   "execution_count": 103,
   "metadata": {},
   "outputs": [],
   "source": [
    "testPredict = model.predict([[testx]])\n",
    "testPredict = scaler.inverse_transform(testPredict).ravel()"
   ]
  },
  {
   "cell_type": "code",
   "execution_count": 19,
   "metadata": {},
   "outputs": [
    {
     "data": {
      "text/plain": [
       "array([[[0.75     ],\n",
       "        [0.75     ],\n",
       "        [0.75     ],\n",
       "        ...,\n",
       "        [1.375    ],\n",
       "        [1.25     ],\n",
       "        [1.       ]],\n",
       "\n",
       "       [[0.75     ],\n",
       "        [0.75     ],\n",
       "        [0.75     ],\n",
       "        ...,\n",
       "        [1.25     ],\n",
       "        [1.       ],\n",
       "        [1.375    ]],\n",
       "\n",
       "       [[0.75     ],\n",
       "        [0.75     ],\n",
       "        [0.75     ],\n",
       "        ...,\n",
       "        [1.       ],\n",
       "        [1.375    ],\n",
       "        [0.5625   ]],\n",
       "\n",
       "       ...,\n",
       "\n",
       "       [[0.25     ],\n",
       "        [0.125    ],\n",
       "        [0.375    ],\n",
       "        ...,\n",
       "        [0.8249999],\n",
       "        [0.875    ],\n",
       "        [0.875    ]],\n",
       "\n",
       "       [[0.125    ],\n",
       "        [0.375    ],\n",
       "        [0.375    ],\n",
       "        ...,\n",
       "        [0.875    ],\n",
       "        [0.875    ],\n",
       "        [1.125    ]],\n",
       "\n",
       "       [[0.375    ],\n",
       "        [0.375    ],\n",
       "        [0.375    ],\n",
       "        ...,\n",
       "        [0.875    ],\n",
       "        [1.125    ],\n",
       "        [1.125    ]]], dtype=float32)"
      ]
     },
     "execution_count": 19,
     "metadata": {},
     "output_type": "execute_result"
    }
   ],
   "source": [
    "testX"
   ]
  },
  {
   "cell_type": "code",
   "execution_count": 14,
   "metadata": {},
   "outputs": [
    {
     "data": {
      "text/plain": [
       "array([0.74792004], dtype=float32)"
      ]
     },
     "execution_count": 14,
     "metadata": {},
     "output_type": "execute_result"
    }
   ],
   "source": [
    "import numpy as np\n",
    "start=testX[75]\n",
    "testPredict=[[0.75]]\n",
    "for i in range(10):\n",
    "    start=np.append(start[1:], testPredict,axis = 0) \n",
    "    testPredict = model.predict([[start]])\n",
    "testPredict = scaler.inverse_transform(testPredict).ravel()\n",
    "testPredict"
   ]
  },
  {
   "cell_type": "code",
   "execution_count": 15,
   "metadata": {},
   "outputs": [
    {
     "data": {
      "text/plain": [
       "array([0.74792004], dtype=float32)"
      ]
     },
     "execution_count": 15,
     "metadata": {},
     "output_type": "execute_result"
    }
   ],
   "source": [
    "testPredict"
   ]
  },
  {
   "cell_type": "code",
   "execution_count": null,
   "metadata": {},
   "outputs": [],
   "source": []
  }
 ],
 "metadata": {
  "kernelspec": {
   "display_name": "Python 3",
   "language": "python",
   "name": "python3"
  },
  "language_info": {
   "codemirror_mode": {
    "name": "ipython",
    "version": 3
   },
   "file_extension": ".py",
   "mimetype": "text/x-python",
   "name": "python",
   "nbconvert_exporter": "python",
   "pygments_lexer": "ipython3",
   "version": "3.7.4"
  }
 },
 "nbformat": 4,
 "nbformat_minor": 2
}
